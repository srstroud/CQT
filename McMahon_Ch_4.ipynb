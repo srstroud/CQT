{
 "cells": [
  {
   "cell_type": "markdown",
   "metadata": {},
   "source": [
    "# Chapter 4 Exercises\n",
    "## Tensor Products"
   ]
  },
  {
   "cell_type": "code",
   "execution_count": 1,
   "metadata": {},
   "outputs": [],
   "source": [
    "import numpy as np"
   ]
  },
  {
   "cell_type": "markdown",
   "metadata": {},
   "source": [
    "### <font color='blue'>4.1</font> *Consider the basis in Example 4.1 Show that it is orthonormal.*"
   ]
  },
  {
   "cell_type": "code",
   "execution_count": 2,
   "metadata": {},
   "outputs": [],
   "source": [
    "zero, one = np.array([[1],[0]]), np.array([[0],[1]])\n",
    "w1 = np.inner(zero,zero)\n",
    "w2 = np.inner(zero,one)\n",
    "w3 = np.inner(one,zero)\n",
    "w4 = np.inner(one,one)"
   ]
  },
  {
   "cell_type": "markdown",
   "metadata": {},
   "source": [
    "### <font color='green'>Answer: $⟨w_i|w_i⟩ = 1 , ⟨w_i|w_j⟩ = 0 $"
   ]
  },
  {
   "cell_type": "markdown",
   "metadata": {},
   "source": [
    "### <font color='blue'>4.1</font> *Returning to Example 4.1, show that* $⟨w_3|w_4⟩ = ⟨w_4|w_4w_3⟩ = 0$"
   ]
  },
  {
   "cell_type": "code",
   "execution_count": 3,
   "metadata": {},
   "outputs": [
    {
     "data": {
      "text/plain": [
       "True"
      ]
     },
     "execution_count": 3,
     "metadata": {},
     "output_type": "execute_result"
    }
   ],
   "source": [
    "zero, one = np.array([[1],[0]]), np.array([[0],[1]])\n",
    "w3, w4 = np.squeeze(np.kron(one, zero)), np.squeeze(np.kron(one, one))\n",
    "0 == np.dot(w3,w4) == np.dot(w4, w4*w3)"
   ]
  },
  {
   "cell_type": "markdown",
   "metadata": {},
   "source": [
    "### <font color='blue'>4.3</font> *Given that $⟨a|b⟩\t = 1/2$ and $⟨c|d⟩ = 3/4$, calculate $⟨\\psi|\\phi⟩$, where $|\\psi⟩\t = |a⟩\\otimes|c⟩$\tand $|\\phi⟩ = |b⟩\\otimes|d⟩$\t.*"
   ]
  },
  {
   "cell_type": "code",
   "execution_count": 4,
   "metadata": {},
   "outputs": [
    {
     "data": {
      "text/plain": [
       "0.125"
      ]
     },
     "execution_count": 4,
     "metadata": {},
     "output_type": "execute_result"
    }
   ],
   "source": [
    "1/2*1/4 #Equ 4.8"
   ]
  },
  {
   "cell_type": "markdown",
   "metadata": {},
   "source": [
    "### <font color='green'>Answer: $⟨\\psi|\\phi⟩ = \\frac{1}{8}$"
   ]
  },
  {
   "cell_type": "markdown",
   "metadata": {},
   "source": [
    "### <font color='blue'>4.4</font> *Calculate the tensor product of* $ \\ |\\psi⟩ = \\frac{1}{\\sqrt{2}} \\begin{pmatrix} 1 \\\\ 1 \\end{pmatrix} \\ $*and*$ \\ |\\phi⟩ = \\frac{1}{2} \\begin{pmatrix} 1 \\\\ \\sqrt{3} \\end{pmatrix}$"
   ]
  },
  {
   "cell_type": "code",
   "execution_count": 5,
   "metadata": {},
   "outputs": [
    {
     "name": "stdout",
     "output_type": "stream",
     "text": [
      "[[0.35355339 0.61237244]\n",
      " [0.35355339 0.61237244]]\n"
     ]
    }
   ],
   "source": [
    "psi = 1/np.sqrt(2) * np.array([[1],[1]])\n",
    "phi = 1/2 * np.array([[1],[np.sqrt(3)]])\n",
    "kron = np.kron(psi, phi)\n",
    "print(kron.reshape(2,2))"
   ]
  },
  {
   "cell_type": "markdown",
   "metadata": {},
   "source": [
    "### <font color='green'>Answer: $|\\psi⟩\\otimes|\\phi⟩ = \\begin{pmatrix} \\frac{1}{2\\sqrt{2}} & \\frac{\\sqrt{\\frac{3}{2}}}{2} \\\\ \\frac{1}{2\\sqrt{2}} & \\frac{\\sqrt{\\frac{3}{2}}}{2} \\\\ \\end{pmatrix} $"
   ]
  },
  {
   "cell_type": "markdown",
   "metadata": {},
   "source": [
    "### <font color='blue'>4.5</font> *Can* $|\\psi⟩ = \\frac{1}{2} (|0⟩|0⟩ - |0⟩|1⟩ - |1⟩|0⟩ - |1⟩|1⟩)$ *be written as a product state?*"
   ]
  },
  {
   "cell_type": "code",
   "execution_count": 6,
   "metadata": {},
   "outputs": [
    {
     "data": {
      "text/plain": [
       "array([[ True,  True],\n",
       "       [ True, False]])"
      ]
     },
     "execution_count": 6,
     "metadata": {},
     "output_type": "execute_result"
    }
   ],
   "source": [
    "zero, one = np.array([[1],[0]]), np.array([[0],[1]])\n",
    "psi = (np.outer(zero,zero)-np.outer(zero,one)-np.outer(one,zero)-np.outer(one,one))/(2)\n",
    "kron = np.kron(zero-one, zero-one)\n",
    "kron.reshape(2,2)*0.5 == psi"
   ]
  },
  {
   "cell_type": "markdown",
   "metadata": {},
   "source": [
    "### <font color='green'> Answer: No"
   ]
  },
  {
   "cell_type": "markdown",
   "metadata": {},
   "source": [
    "### <font color='blue'>4.6</font> *Can* $|\\psi⟩ = \\frac{|0⟩|0⟩ + |1⟩|1⟩}{\\sqrt{2}}$ *be written as a product state?*"
   ]
  },
  {
   "cell_type": "code",
   "execution_count": 7,
   "metadata": {},
   "outputs": [
    {
     "data": {
      "text/plain": [
       "array([[ True,  True],\n",
       "       [ True,  True]])"
      ]
     },
     "execution_count": 7,
     "metadata": {},
     "output_type": "execute_result"
    }
   ],
   "source": [
    "zero, one = np.array([[1],[0]]), np.array([[0],[1]])\n",
    "psi = (np.outer(zero,zero)+np.outer(one,one))/np.sqrt(2)\n",
    "kron = np.kron(zero, zero) + np.kron(one, one)\n",
    "kron.reshape(2,2)/np.sqrt(2) == psi"
   ]
  },
  {
   "cell_type": "markdown",
   "metadata": {},
   "source": [
    "### <font color='green'> Answer: No, it can only be written as the sum of two product states."
   ]
  },
  {
   "cell_type": "markdown",
   "metadata": {},
   "source": [
    "### <font color='blue'>4.7</font> *Find* $X\\otimes Y|\\psi⟩$*, where* $|\\psi⟩ = \\frac{|0⟩|1⟩ - |1⟩|0⟩}{\\sqrt{2}}$"
   ]
  },
  {
   "cell_type": "code",
   "execution_count": 8,
   "metadata": {},
   "outputs": [
    {
     "name": "stdout",
     "output_type": "stream",
     "text": [
      "[[0.+0.j         0.+0.j         0.+0.70710678j 0.+0.j        ]\n",
      " [0.+0.j         0.+0.j         0.+0.j         0.+0.70710678j]\n",
      " [0.+0.70710678j 0.+0.j         0.+0.j         0.+0.j        ]\n",
      " [0.+0.j         0.+0.70710678j 0.+0.j         0.+0.j        ]]\n"
     ]
    }
   ],
   "source": [
    "X, Y = np.array([[0,1], [1,0]]), np.array([[0,-1j], [1j,0]])\n",
    "zero, one = np.array([[1],[0]]), np.array([[0],[1]])\n",
    "psi = (np.outer(zero,one)-np.outer(one,zero))/np.sqrt(2)\n",
    "Ypsi = np.matmul(Y,psi)\n",
    "kron = np.kron(X, Ypsi)\n",
    "print(kron)"
   ]
  },
  {
   "cell_type": "markdown",
   "metadata": {},
   "source": [
    "### <font color='green'>Answer: $X \\otimes Y|\\psi⟩ = \\begin{pmatrix} 0 & 0 & \\frac{i}{\\sqrt{2}} & 0 \\\\ 0 & 0 & 0 & \\frac{i}{\\sqrt{2}} \\\\ \\frac{i}{\\sqrt{2}} & 0 & 0 & 0 \\\\ 0 & \\frac{i}{\\sqrt{2}} & 0 & 0 \\end{pmatrix} $"
   ]
  },
  {
   "cell_type": "markdown",
   "metadata": {},
   "source": [
    "### <font color='blue'>4.8</font> *Show that $(A\\otimes B)^\\dagger =A^\\dagger \\otimes B^\\dagger$.*"
   ]
  },
  {
   "cell_type": "code",
   "execution_count": 9,
   "metadata": {},
   "outputs": [
    {
     "data": {
      "text/plain": [
       "array([[ True,  True,  True,  True],\n",
       "       [ True,  True,  True,  True],\n",
       "       [ True,  True,  True,  True],\n",
       "       [ True,  True,  True,  True]])"
      ]
     },
     "execution_count": 9,
     "metadata": {},
     "output_type": "execute_result"
    }
   ],
   "source": [
    "A = np.array([[27j,36],[42,55j]])\n",
    "B = np.array([[64,72j],[81j,97]])\n",
    "np.conj(np.kron(A,B)) == np.kron(np.conj(A), np.conj(B))"
   ]
  },
  {
   "cell_type": "markdown",
   "metadata": {},
   "source": [
    "### <font color='blue'>4.9</font> *If* $|\\psi⟩ = \\frac{|00⟩ - |11⟩}{\\sqrt{2}}$, *find* $I \\otimes Y|\\psi⟩$"
   ]
  },
  {
   "cell_type": "code",
   "execution_count": 10,
   "metadata": {},
   "outputs": [
    {
     "name": "stdout",
     "output_type": "stream",
     "text": [
      "[[0.-0.70710678j 0.+0.j         0.+0.j         0.+0.j        ]\n",
      " [0.+0.j         0.+0.70710678j 0.+0.j         0.+0.j        ]\n",
      " [0.+0.j         0.+0.j         0.-0.70710678j 0.+0.j        ]\n",
      " [0.+0.j         0.+0.j         0.+0.j         0.+0.70710678j]]\n"
     ]
    }
   ],
   "source": [
    "I, Y = np.array([[1,0], [0,1]]), np.array([[0,-1j], [1j,0]])\n",
    "zero, one = np.array([[1],[0]]), np.array([[0],[1]])\n",
    "psi = (np.outer(zero,one)+np.outer(one,zero))/np.sqrt(2)\n",
    "Ypsi = np.matmul(Y,psi)\n",
    "kron = np.kron(I, Ypsi)\n",
    "print(kron)"
   ]
  },
  {
   "cell_type": "markdown",
   "metadata": {},
   "source": [
    "### <font color='green'>Answer: $I \\otimes Y|\\psi⟩ = \\begin{pmatrix} -\\frac{i}{\\sqrt{2}} & 0 & 0 & 0 \\\\ 0 & \\frac{i}{\\sqrt{2}} & 0 & 0 \\\\ 0 & 0 & -\\frac{i}{\\sqrt{2}} & 0 \\\\ 0 & 0 & 0 & \\frac{i}{\\sqrt{2}} \\end{pmatrix} $"
   ]
  },
  {
   "cell_type": "markdown",
   "metadata": {},
   "source": [
    "### <font color='blue'>4.10</font> *Calculate the matrix representation of $X \\otimes Y$.*"
   ]
  },
  {
   "cell_type": "code",
   "execution_count": 11,
   "metadata": {},
   "outputs": [
    {
     "name": "stdout",
     "output_type": "stream",
     "text": [
      "[[0.+0.j 0.-0.j 0.+0.j 0.-1.j]\n",
      " [0.+0.j 0.+0.j 0.+1.j 0.+0.j]\n",
      " [0.+0.j 0.-1.j 0.+0.j 0.-0.j]\n",
      " [0.+1.j 0.+0.j 0.+0.j 0.+0.j]]\n"
     ]
    }
   ],
   "source": [
    "X, Y = np.array([[0,1], [1,0]]), np.array([[0,-1j], [1j,0]])\n",
    "kron = np.kron(X,Y)\n",
    "print(kron)"
   ]
  },
  {
   "cell_type": "markdown",
   "metadata": {},
   "source": [
    "### <font color='green'>Answer: $X \\otimes Y = \\begin{pmatrix} 0 & 0 & 0 & -i \\\\ 0 & 0 & i & 0 \\\\ 0 & -i & 0 & 0 \\\\ i & 0 & 0 & 0 \\end{pmatrix} $"
   ]
  },
  {
   "cell_type": "code",
   "execution_count": null,
   "metadata": {},
   "outputs": [],
   "source": []
  }
 ],
 "metadata": {
  "kernelspec": {
   "display_name": "Python 3",
   "language": "python",
   "name": "python3"
  },
  "language_info": {
   "codemirror_mode": {
    "name": "ipython",
    "version": 3
   },
   "file_extension": ".py",
   "mimetype": "text/x-python",
   "name": "python",
   "nbconvert_exporter": "python",
   "pygments_lexer": "ipython3",
   "version": "3.6.7"
  }
 },
 "nbformat": 4,
 "nbformat_minor": 2
}
