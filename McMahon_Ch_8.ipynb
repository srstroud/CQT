{
 "cells": [
  {
   "cell_type": "markdown",
   "metadata": {},
   "source": [
    "# Chapter 8 Exercises\n",
    "## Quantum Gates and Circuits"
   ]
  },
  {
   "cell_type": "code",
   "execution_count": 1,
   "metadata": {},
   "outputs": [],
   "source": [
    "import numpy as np"
   ]
  },
  {
   "cell_type": "markdown",
   "metadata": {},
   "source": [
    "### <font color='blue'>8.1</font>  *Describe the action of the Y gate in terms of the Bloch sphere picture.*"
   ]
  },
  {
   "cell_type": "markdown",
   "metadata": {},
   "source": [
    "### <font color='green'> (B) Answer: The Y gate shifts angles by one radian."
   ]
  },
  {
   "cell_type": "markdown",
   "metadata": {},
   "source": [
    "### <font color='blue'>8.2</font>  *The Hubbard operators are given by*\n",
    "### $X^{11} = |0⟩⟨0| \\ , \\ X^{12} = |0⟩⟨1| \\ , \\ X^{21} = |1⟩⟨0| \\ , \\ X^{22} = |1⟩⟨1| $\n",
    "### *(A) Write down the matrix representations of the Hubbard operators in the computational basis.*\n",
    "### *(B) Describe the action of the Hubbard operators on the Hadamard basis states.*"
   ]
  },
  {
   "cell_type": "code",
   "execution_count": 2,
   "metadata": {},
   "outputs": [
    {
     "name": "stdout",
     "output_type": "stream",
     "text": [
      "[[1 0]\n",
      " [0 0]]\n"
     ]
    }
   ],
   "source": [
    "zero, one = np.array([[1],[0]]), np.array([[0],[1]])\n",
    "x11, x12 = np.outer(zero,zero), np.outer(zero,one)\n",
    "x21, x22 = np.outer(one,zero),np.outer(one,one)\n",
    "print(x11)"
   ]
  },
  {
   "cell_type": "markdown",
   "metadata": {},
   "source": [
    "### <font color='green'> (A) Answer: $ X^{11} = \\begin{pmatrix} 1 & 0 \\\\ 0 & 0 \\end{pmatrix} \\ , \\ X^{12} = \\begin{pmatrix} 0 & 1 \\\\ 0 & 0 \\\\ \\end{pmatrix} \\ , \\ X^{21} = \\begin{pmatrix} 0 & 0 \\\\ 1 & 0 \\\\ \\end{pmatrix} \\ , \\ X^{22} = \\begin{pmatrix} 0 & 0 \\\\ 0 & 1 \\\\ \\end{pmatrix} $"
   ]
  },
  {
   "cell_type": "code",
   "execution_count": 3,
   "metadata": {},
   "outputs": [
    {
     "name": "stdout",
     "output_type": "stream",
     "text": [
      "[[0.70710678]\n",
      " [0.        ]]\n"
     ]
    }
   ],
   "source": [
    "plus, minus = (zero+one)/np.sqrt(2), (zero-one)/np.sqrt(2)\n",
    "print(np.matmul(x11,plus))"
   ]
  },
  {
   "cell_type": "markdown",
   "metadata": {},
   "source": [
    "### <font color='green'> (B) Answer: $X^{11}$ and $X^{12}$ remove the second element. $X^{21}$ and $X^{22}$ remove the first element. "
   ]
  },
  {
   "cell_type": "markdown",
   "metadata": {},
   "source": [
    "### <font color='blue'>8.3</font>  *Find a way to write the Pauli operators X, Y, and Z in terms of the Hubbard operators.*"
   ]
  },
  {
   "cell_type": "code",
   "execution_count": 4,
   "metadata": {},
   "outputs": [
    {
     "data": {
      "text/plain": [
       "array([[ True,  True],\n",
       "       [ True,  True]])"
      ]
     },
     "execution_count": 4,
     "metadata": {},
     "output_type": "execute_result"
    }
   ],
   "source": [
    "X, Y, Z = np.array([[0,1], [1,0]]), np.array([[0,-1j], [1j,0]]), np.array([[1,0], [0,-1]])\n",
    "X == x21 + x12\n",
    "Y == 1j*x21 -1j*x12\n",
    "Z == x11 - x22"
   ]
  },
  {
   "cell_type": "markdown",
   "metadata": {},
   "source": [
    "### <font color='green'>Answer: $ X = X^{21}+X^{12} \\ , \\ Y = iX^{21}-iX^{12} \\ , \\ Z = X^{11}-X^{22} $"
   ]
  },
  {
   "cell_type": "markdown",
   "metadata": {},
   "source": [
    "### <font color='blue'>8.4</font>  *Show that the controlled NOT gate is Hermitian and unitary.*"
   ]
  },
  {
   "cell_type": "code",
   "execution_count": 5,
   "metadata": {},
   "outputs": [
    {
     "data": {
      "text/plain": [
       "array([[ True,  True,  True,  True],\n",
       "       [ True,  True,  True,  True],\n",
       "       [ True,  True,  True,  True],\n",
       "       [ True,  True,  True,  True]])"
      ]
     },
     "execution_count": 5,
     "metadata": {},
     "output_type": "execute_result"
    }
   ],
   "source": [
    "cnot = np.array([[1,0,0,0], [0,1,0,0],[0,0,0,1],[0,0,1,0]]) #Equ 8.28\n",
    "cnot_adj = np.conj(np.transpose(cnot))\n",
    "cnot == cnot_adj #Hermitian check, Equ 3.32\n",
    "np.matmul(cnot, cnot_adj) == np.matmul(cnot_adj, cnot) #Unitary check, Equ 3.34"
   ]
  },
  {
   "cell_type": "markdown",
   "metadata": {},
   "source": [
    "### <font color='green'>Answer: $CN = CN^\\dagger  \\ , \\  CN \\ CN^\\dagger = CN^\\dagger CN = I $"
   ]
  },
  {
   "cell_type": "markdown",
   "metadata": {},
   "source": [
    "### <font color='blue'>8.5</font>  *Let $|a⟩=|1⟩$\t, and consider the circuit shown in Figure 8.5. Determine which Bell states are generated as output when $|b⟩=|0⟩,|b⟩=|1⟩$\t.*"
   ]
  },
  {
   "cell_type": "code",
   "execution_count": 6,
   "metadata": {},
   "outputs": [
    {
     "data": {
      "text/plain": [
       "array([[ 0.70710678],\n",
       "       [ 0.        ],\n",
       "       [-1.        ],\n",
       "       [ 0.        ]])"
      ]
     },
     "execution_count": 6,
     "metadata": {},
     "output_type": "execute_result"
    }
   ],
   "source": [
    "zero, one = np.array([[1],[0]]), np.array([[0],[1]])\n",
    "a, b0, b1 = one, zero, one\n",
    "Bab_0 = 1/np.sqrt(2) * np.kron(zero,b0) + (-1)*(np.kron(one,zero)) #Same as Equ 8.33\n",
    "Bab_1 = 1/np.sqrt(2) * np.kron(zero,b1) + (-1)*(np.kron(one,zero)) #Does not match Equ.\n",
    "Bab_0"
   ]
  },
  {
   "cell_type": "markdown",
   "metadata": {},
   "source": [
    "### <font color='green'>Answer: When $|b⟩ = 1 \\ , \\ |\\beta_{11}⟩$ is generated"
   ]
  },
  {
   "cell_type": "markdown",
   "metadata": {},
   "source": [
    "### <font color='blue'>8.6</font> *Write down the matrix representation for the controlled Z gate. Then write down its representation using Dirac notation.*\n"
   ]
  },
  {
   "cell_type": "code",
   "execution_count": 7,
   "metadata": {},
   "outputs": [
    {
     "data": {
      "text/plain": [
       "array([[ 1,  0,  0,  0],\n",
       "       [ 0, -1,  0,  0],\n",
       "       [ 0,  0, -1,  0],\n",
       "       [ 0,  0,  0,  1]])"
      ]
     },
     "execution_count": 7,
     "metadata": {},
     "output_type": "execute_result"
    }
   ],
   "source": [
    "Z = np.array([[1,0], [0,-1]])\n",
    "H = 1/np.sqrt(2) * np.array([[1, 1],[1, -1]])\n",
    "np.kron(Z,Z)"
   ]
  },
  {
   "cell_type": "markdown",
   "metadata": {},
   "source": [
    "### <font color='green'>Answer: $CZ = \\begin{pmatrix} 1 & 0 & 0 & 0 \\\\ 0 & 1 & 0 & 0 \\\\ 0 & 0 & 1 & 0 \\\\ 0 & 0 & 0 & -1 \\end{pmatrix} $"
   ]
  },
  {
   "cell_type": "markdown",
   "metadata": {},
   "source": [
    "### <font color='blue'>8.7</font> *Consider the single qubit operators X, Y, Z, S, and T. Find the square of each operator.*\n"
   ]
  },
  {
   "cell_type": "code",
   "execution_count": 8,
   "metadata": {},
   "outputs": [
    {
     "data": {
      "text/plain": [
       "array([[1.+0.j, 0.+0.j],\n",
       "       [0.+0.j, 0.+1.j]])"
      ]
     },
     "execution_count": 8,
     "metadata": {},
     "output_type": "execute_result"
    }
   ],
   "source": [
    "X, Y, Z = np.array([[0,1], [1,0]]), np.array([[0,-1j], [1j,0]]), np.array([[1,0], [0,-1]])\n",
    "S, T = np.array([[1,0], [0,1j]]), np.array([[1,0], [0,np.exp(1j*np.pi/4)]]) \n",
    "np.round(T**2) "
   ]
  },
  {
   "cell_type": "markdown",
   "metadata": {},
   "source": [
    "### <font color='green'>Answer: $ X^2 = X \\ , \\ Y^2 = -X \\ , \\ Z^2 = |Z| \\ , \\ S^2 = Z \\ , \\ T^2 = \\begin{pmatrix} 1 &  0 \\\\ 0 & 0 \\\\ \\end{pmatrix} ,$"
   ]
  },
  {
   "cell_type": "code",
   "execution_count": null,
   "metadata": {},
   "outputs": [],
   "source": []
  }
 ],
 "metadata": {
  "kernelspec": {
   "display_name": "Python 3",
   "language": "python",
   "name": "python3"
  },
  "language_info": {
   "codemirror_mode": {
    "name": "ipython",
    "version": 3
   },
   "file_extension": ".py",
   "mimetype": "text/x-python",
   "name": "python",
   "nbconvert_exporter": "python",
   "pygments_lexer": "ipython3",
   "version": "3.6.7"
  }
 },
 "nbformat": 4,
 "nbformat_minor": 2
}
