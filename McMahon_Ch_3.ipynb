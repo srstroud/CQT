{
 "cells": [
  {
   "cell_type": "markdown",
   "metadata": {},
   "source": [
    "# Chapter 3 Exercises\n",
    "## Matrices and Operators"
   ]
  },
  {
   "cell_type": "code",
   "execution_count": 2,
   "metadata": {},
   "outputs": [],
   "source": [
    "import numpy as np"
   ]
  },
  {
   "cell_type": "markdown",
   "metadata": {},
   "source": [
    "### <font color='blue'>3.1</font> *Verify that the outer product representations of X and Y are given by X = $|0\t⟩⟨1|+|1\t⟩⟨0|$ and Y = $−i|0⟩⟨1|+ i|1⟩⟨0|$ by letting them act on the state $|\\phi⟩ = \\alpha|0⟩ + \\beta|1⟩$* and comparing with (3.9) and (3.10)."
   ]
  },
  {
   "cell_type": "markdown",
   "metadata": {},
   "source": [
    "### <font color='green'>Answer: $X|\\phi⟩ = \\alpha X|0⟩ + \\beta X|1⟩ = \\alpha|1⟩ + \\beta X|0⟩ \\ \\ , \\ \\ Y|\\phi⟩ = \\alpha Y|0⟩ + \\beta Y|1⟩ = -\\alpha i|1⟩ + \\beta i|0⟩ $"
   ]
  },
  {
   "cell_type": "markdown",
   "metadata": {},
   "source": [
    "### <font color='blue'>3.2</font> *Show that the matrix representation of the X operator with respect to the computational basis is*\n",
    "### $ X = \\begin{pmatrix} 0 & 1 \\\\ 1 & 0 \\\\ \\end{pmatrix} $"
   ]
  },
  {
   "cell_type": "code",
   "execution_count": 3,
   "metadata": {},
   "outputs": [
    {
     "data": {
      "text/plain": [
       "array([[ True,  True],\n",
       "       [ True,  True]])"
      ]
     },
     "execution_count": 3,
     "metadata": {},
     "output_type": "execute_result"
    }
   ],
   "source": [
    "X = np.array([[0,1], [1,0]])\n",
    "zero, one = np.array([[1],[0]]), np.array([[0],[1]])\n",
    "X == np.outer(zero,one) + np.outer(one,zero)"
   ]
  },
  {
   "cell_type": "markdown",
   "metadata": {},
   "source": [
    "### <font color='green'>Answer: $X = |0⟩⟨1| + |1⟩⟨0| = \\begin{pmatrix} \\ 0 \\ \\ 1 \\\\ \\ 1 \\ \\ 0 \\\\ \\end{pmatrix} $"
   ]
  },
  {
   "cell_type": "markdown",
   "metadata": {},
   "source": [
    "### <font color='blue'>3.3</font> *Consider the basis states given by*\n",
    "### $|+⟩ = \\frac{|0⟩ \\ + \\ |1⟩}{\\sqrt{2}} , \\ |-⟩ = \\frac{|0⟩ \\ - \\ |1⟩}{\\sqrt{2}}$\n",
    "###  *Show that the matrix representation of the X operator with respect to this basis is*\n",
    "### $ X = \\begin{pmatrix} \\ 1 &  0 \\\\ 0 & -1 \\\\ \\end{pmatrix} $"
   ]
  },
  {
   "cell_type": "code",
   "execution_count": 5,
   "metadata": {},
   "outputs": [
    {
     "name": "stdout",
     "output_type": "stream",
     "text": [
      "[[ 1.  0.]\n",
      " [-0. -1.]]\n"
     ]
    }
   ],
   "source": [
    "plus, minus = (zero+one)/np.sqrt(2), (zero-one)/np.sqrt(2)\n",
    "\n",
    "U = ([[np.vdot(plus,zero),np.vdot(plus,one)],[np.vdot(minus,zero),np.vdot(minus,one)]]) #Equ 3.49\n",
    "XU = np.matmul(X,U)\n",
    "UXU = np.matmul(U, XU)\n",
    "print(np.round(UXU))"
   ]
  },
  {
   "cell_type": "markdown",
   "metadata": {},
   "source": [
    "### <font color='green'>Answer: $X' = UXU^\\dagger = \\begin{pmatrix} 1 &  0 \\\\ 0 & -1 \\\\ \\end{pmatrix} $"
   ]
  },
  {
   "cell_type": "markdown",
   "metadata": {},
   "source": [
    "### <font color='blue'>3.4</font> *Consider the space ℂ³ with the basis {$|1⟩, |2⟩, |3⟩$}. An operator $\\hat{A}$ is given by $\\hat{A} = i|1⟩⟨1| \\ + \\ \\frac{√3}{2} |1⟩⟨2| \\ + \\ 2|2⟩⟨1| \\ − \\ |2⟩⟨3|$.  Write down the adjoint of this operator $\\hat{A}^\\dagger$.*"
   ]
  },
  {
   "cell_type": "code",
   "execution_count": null,
   "metadata": {},
   "outputs": [],
   "source": [
    "print(np.conj(1j),np.conj(np.sqrt(3)/2),np.conj(2),np.conj(1))"
   ]
  },
  {
   "cell_type": "markdown",
   "metadata": {},
   "source": [
    "### <font color='green'>Answer: $\\hat{A}^\\dagger = -i|1⟩⟨1| \\ + \\ \\frac{√3}{2} |2⟩⟨1| \\ + \\ 2|1⟩⟨2| \\ − \\ |3⟩⟨2|$"
   ]
  },
  {
   "cell_type": "markdown",
   "metadata": {},
   "source": [
    "### <font color='blue'>3.5</font> *Find the eigenvalues and eigenvectors of the X operator.*"
   ]
  },
  {
   "cell_type": "code",
   "execution_count": null,
   "metadata": {},
   "outputs": [],
   "source": [
    "np.linalg.eig(X)"
   ]
  },
  {
   "cell_type": "markdown",
   "metadata": {},
   "source": [
    "### <font color='green'>Answer: $\\lambda_1 = 1 \\ \\ , \\ \\ \\lambda_2 = -1 \\ \\ , \\ \\ |v_1⟩$ = $\\frac{1}{\\sqrt{2}} \\begin{pmatrix} 1\\\\ 1\\\\ \\end{pmatrix} \\ \\ , \\ \\ |v_2⟩ = \\frac{1}{\\sqrt{2}} \\begin{pmatrix} 1\\\\-1\\\\ \\end{pmatrix}$"
   ]
  },
  {
   "cell_type": "markdown",
   "metadata": {},
   "source": [
    "### <font color='blue'>3.6</font> *Show that the Y operator is traceless.*"
   ]
  },
  {
   "cell_type": "code",
   "execution_count": null,
   "metadata": {},
   "outputs": [],
   "source": [
    "Y = np.array([[0,-1j], [1j,0]])\n",
    "np.trace(Y)"
   ]
  },
  {
   "cell_type": "markdown",
   "metadata": {},
   "source": [
    "### <font color='green'>Answer: $Tr$($Y$) = 0"
   ]
  },
  {
   "cell_type": "markdown",
   "metadata": {},
   "source": [
    "### <font color='blue'>3.7</font> *Find the eigenvalues of*\n",
    "### $ B\t= \\begin{pmatrix} \\ 1 \\ \\  0 \\ \\  2 \\\\ \\ 0 \\ \\ 3 \\ \\ 4 \\\\ 1 \\ \\ 0 \\ \\ 2 \\\\ \\end{pmatrix} $ "
   ]
  },
  {
   "cell_type": "code",
   "execution_count": null,
   "metadata": {},
   "outputs": [],
   "source": [
    "B = np.array([[1,0,2], [0,3,4], [1,0,2]])\n",
    "np.linalg.eig(B)[0]"
   ]
  },
  {
   "cell_type": "markdown",
   "metadata": {},
   "source": [
    "### <font color='green'>Answer: $\\lambda_1$ = 3 , $\\lambda_2$ = 0"
   ]
  },
  {
   "cell_type": "markdown",
   "metadata": {},
   "source": [
    "### <font color='blue'>3.8</font> *Prove the following relations involving the trace operation:*\n",
    "### $Tr(A+B) = Tr(A) + Tr(B) \\ \\  ; \\ \\ Tr(λA) = λTr(A) \\ \\ ; \\ \\ Tr(AB) = Tr(BA)$"
   ]
  },
  {
   "cell_type": "code",
   "execution_count": null,
   "metadata": {},
   "outputs": [],
   "source": [
    "A = np.array([[27,36],[42,55]])\n",
    "B = np.array([[64,72],[81,97]])\n",
    "l = np.linalg.eig(A)[0][0] #The index [0][0] represents the first of two eigenvalues.\n",
    "\n",
    "print(np.trace(A+B) == np.trace(A)+ np.trace(B))\n",
    "print(np.trace(l*A) == l*np.trace(A))\n",
    "print(np.trace(A*B) == np.trace(B*A))"
   ]
  },
  {
   "cell_type": "markdown",
   "metadata": {},
   "source": [
    "### <font color='blue'>3.9</font> *Show that X =* $|0⟩⟨1| + |1⟩⟨0| =P_+ − P_- $"
   ]
  },
  {
   "cell_type": "code",
   "execution_count": null,
   "metadata": {},
   "outputs": [],
   "source": [
    "zero, one = np.array([[1],[0]]), np.array([[0],[1]])\n",
    "X == np.outer(zero,one) + np.outer(one,zero)"
   ]
  },
  {
   "cell_type": "markdown",
   "metadata": {},
   "source": [
    "### <font color='blue'>3.10</font> *A three-state system is in the state*\n",
    "### $|\\psi⟩ = \\frac{1}{2}|0⟩ + \\frac{1}{2}|1⟩ - \\frac{i}{\\sqrt{2}}|2⟩$\n",
    "### *Write down the necessary projection operators and calculate the probabilities Pr(0), Pr(1), and Pr(2).*"
   ]
  },
  {
   "cell_type": "code",
   "execution_count": null,
   "metadata": {},
   "outputs": [],
   "source": [
    "c0, c1, c2 = 1/2, 1/2, -1j/np.sqrt(2)\n",
    "Pr0, Pr1, Pr2 = np.abs(c0)**2, np.abs(c1)**2, np.abs(c2)**2\n",
    "print(Pr0, Pr1, Pr2)"
   ]
  },
  {
   "cell_type": "markdown",
   "metadata": {},
   "source": [
    "### <font color='green'>Answer: Pr(0) = Pr(1) = $\\frac{1}{4}$ , Pr(2) = $\\frac{1}{2}$"
   ]
  },
  {
   "cell_type": "markdown",
   "metadata": {},
   "source": [
    "### <font color='blue'>3.11</font> *In Example 3.17 we showed that $[σ_1, σ_2] = 2iσ_3$. Following the same procedure, show that $[σ_2, σ_3] = 2iσ_1$ and $[σ_3, σ_1] = 2iσ_2$.* "
   ]
  },
  {
   "cell_type": "code",
   "execution_count": null,
   "metadata": {},
   "outputs": [],
   "source": [
    "Z = np.array([[1,0], [0,-1]])\n",
    "print('[Y,Z]',2j*X == np.matmul(Y,Z)-np.matmul(Z,Y))\n",
    "print('[Z,X]',2j*Y == np.matmul(Z,X)-np.matmul(X,Z))"
   ]
  },
  {
   "cell_type": "markdown",
   "metadata": {},
   "source": [
    "### <font color='blue'>3.12</font> *Show that* {$\\sigma_i , \\sigma_j $} *= 0 when i$\\neq$j*"
   ]
  },
  {
   "cell_type": "code",
   "execution_count": null,
   "metadata": {},
   "outputs": [],
   "source": [
    "print('{X,Y}', 0 == np.matmul(X,Y)+np.matmul(Y,X))\n",
    "print('{Y,Z}', 0 == np.matmul(Y,Z)+np.matmul(Z,Y))\n",
    "print('{Z,X}', 0 == np.matmul(Z,X)+np.matmul(X,Z))"
   ]
  }
 ],
 "metadata": {
  "kernelspec": {
   "display_name": "Python 3",
   "language": "python",
   "name": "python3"
  },
  "language_info": {
   "codemirror_mode": {
    "name": "ipython",
    "version": 3
   },
   "file_extension": ".py",
   "mimetype": "text/x-python",
   "name": "python",
   "nbconvert_exporter": "python",
   "pygments_lexer": "ipython3",
   "version": "3.6.7"
  }
 },
 "nbformat": 4,
 "nbformat_minor": 2
}
