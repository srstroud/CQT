{
 "cells": [
  {
   "cell_type": "markdown",
   "metadata": {},
   "source": [
    "# Chapter 9 Exercises\n",
    "## Quantum Algorithms"
   ]
  },
  {
   "cell_type": "code",
   "execution_count": 1,
   "metadata": {},
   "outputs": [],
   "source": [
    "import numpy as np"
   ]
  },
  {
   "cell_type": "markdown",
   "metadata": {},
   "source": [
    "### <font color='blue'>9.1</font> *Using the matrix representation of the Hadamard gate*\n",
    "### $ H = \\frac{1}{\\sqrt{2}} \\begin{pmatrix} 1 & 1 \\\\ 1 & -1 \\\\ \\end{pmatrix} $\n",
    "### *Write down the matrix for* $H \\otimes H$ *and find* $(H \\otimes H)(|0⟩ \\otimes|1⟩)$*. Show that this is equivalent to*\n",
    "###  $ |\\phi⟩ =  \\left( \\frac{|0⟩ + |1⟩}{\\sqrt{2}} \\right) \\left( \\frac{|0⟩ - |1⟩}{\\sqrt{2}} \\right) $"
   ]
  },
  {
   "cell_type": "code",
   "execution_count": 2,
   "metadata": {},
   "outputs": [
    {
     "name": "stdout",
     "output_type": "stream",
     "text": [
      "[[ 0.5  0.5  0.5  0.5]\n",
      " [ 0.5 -0.5  0.5 -0.5]\n",
      " [ 0.5  0.5 -0.5 -0.5]\n",
      " [ 0.5 -0.5 -0.5  0.5]]\n"
     ]
    }
   ],
   "source": [
    "H = 1/np.sqrt(2) * np.array([[1, 1],[1, -1]])\n",
    "kronHH = np.kron(H,H)\n",
    "print(kronHH)"
   ]
  },
  {
   "cell_type": "code",
   "execution_count": 3,
   "metadata": {},
   "outputs": [
    {
     "data": {
      "text/plain": [
       "array([[ True],\n",
       "       [ True],\n",
       "       [ True],\n",
       "       [ True]])"
      ]
     },
     "execution_count": 3,
     "metadata": {},
     "output_type": "execute_result"
    }
   ],
   "source": [
    "zero, one = np.array([[1],[0]]), np.array([[0],[1]])\n",
    "kron01 = np.kron(zero, one)\n",
    "phi1, phi2 = 1/np.sqrt(2)*(zero+one), 1/np.sqrt(2)*(zero-one)\n",
    "phi = np.kron(phi1,phi2)\n",
    "phi == np.matmul(kronHH, kron01)"
   ]
  },
  {
   "cell_type": "markdown",
   "metadata": {},
   "source": [
    "### <font color='green'>Answer: $H \\otimes H = \\begin{pmatrix} \\frac{1}{2} & \\frac{1}{2} & \\frac{1}{2} & \\frac{1}{2} \\\\ \\frac{1}{2} & -\\frac{1}{2} & \\frac{1}{2} & -\\frac{1}{2} \\\\ \\frac{1}{2} & \\frac{1}{2} & -\\frac{1}{2} & -\\frac{1}{2} \\\\ \\frac{1}{2} & -\\frac{1}{2} & -\\frac{1}{2} & \\frac{1}{2} \\end{pmatrix} \\ , \\ |\\phi⟩ = (H \\otimes H)(|0⟩ \\otimes|1⟩) = \\begin{pmatrix} \\frac{1}{2} \\\\ -\\frac{1}{2} \\\\ \\frac{1}{2} \\\\ -\\frac{1}{2} \\end{pmatrix} $"
   ]
  },
  {
   "cell_type": "markdown",
   "metadata": {},
   "source": [
    "### <font color='blue'>9.2</font> *The Beam splitter gate has a matrix representation given by*\n",
    "### $ B = \\frac{1}{\\sqrt{2}} \\begin{pmatrix} i & 1 \\\\ 1 & i \\\\ \\end{pmatrix} $\n",
    "### *Show that B generates superposition states out of the computational basis states $|0⟩$\tand $|1⟩$. In particular, show that*\n",
    "### $ B \\otimes B |0⟩ |0⟩ = \\left( \\frac{i|0⟩ + |1⟩}{\\sqrt{2}} \\right) \\left( \\frac{i|0⟩ + |1⟩}{\\sqrt{2}} \\right) $"
   ]
  },
  {
   "cell_type": "code",
   "execution_count": 4,
   "metadata": {},
   "outputs": [
    {
     "data": {
      "text/plain": [
       "array([[ True],\n",
       "       [ True],\n",
       "       [ True],\n",
       "       [ True]])"
      ]
     },
     "execution_count": 4,
     "metadata": {},
     "output_type": "execute_result"
    }
   ],
   "source": [
    "phi1 = phi2 = 1/np.sqrt(2) * ((1j*zero)+one)\n",
    "phi = np.kron(phi1,phi2)\n",
    "B = 1/np.sqrt(2) * np.array([[1j, 1],[1, 1j]])\n",
    "kronBB = np.kron(B,B)\n",
    "prod00 = np.kron(zero,zero)\n",
    "np.matmul(kronBB, prod00) == phi"
   ]
  },
  {
   "cell_type": "markdown",
   "metadata": {},
   "source": [
    "### <font color='green'>Answer: $ B \\otimes B |0⟩ |0⟩ = \\left( \\frac{i|0⟩ + |1⟩}{\\sqrt{2}} \\right) \\left( \\frac{i|0⟩ + |1⟩}{\\sqrt{2}} \\right) = \\begin{pmatrix} -\\frac{1}{2} \\\\ \\frac{i}{2} \\\\ \\frac{i}{2} \\\\ \\frac{1}{2} \\end{pmatrix} $"
   ]
  },
  {
   "cell_type": "markdown",
   "metadata": {},
   "source": [
    "### <font color='blue'>9.3</font> *Show that the matrix representation of HP($\\theta$)HP($\\phi$) is given by*\n",
    "### $ e^{i\\theta/2} \\begin{pmatrix} \\cos{\\theta/2} & -ie^{i\\theta}\\sin{\\theta/2} \\\\ -i\\sin{\\theta/2} & e^{i\\theta}\\cos{\\theta/2} \\\\ \\end{pmatrix} $"
   ]
  },
  {
   "cell_type": "code",
   "execution_count": 5,
   "metadata": {},
   "outputs": [
    {
     "data": {
      "text/plain": [
       "array([[ True,  True],\n",
       "       [ True,  True]])"
      ]
     },
     "execution_count": 5,
     "metadata": {},
     "output_type": "execute_result"
    }
   ],
   "source": [
    "theta = np.pi\n",
    "H, P = 1/np.sqrt(2) * np.array([[1, 1],[1, -1]]), np.array([[1, 0],[0, np.exp(1j*theta)]])  \n",
    "given_by = np.exp(1j*theta/2) * np.array([[np.cos(theta/2), -1j*np.exp(1j*theta)*np.sin(theta/2)],[-1j*np.sin(theta/2), np.exp(theta/2)*np.cos(theta/2)]])\n",
    "HP_HP = np.matmul(np.matmul(H,P),np.matmul(H,P))\n",
    "np.round(HP_HP) == np.round(given_by)"
   ]
  },
  {
   "cell_type": "markdown",
   "metadata": {},
   "source": [
    "### <font color='blue'>9.4</font> *Derive (9.17) through (9.19).*"
   ]
  },
  {
   "cell_type": "code",
   "execution_count": 6,
   "metadata": {},
   "outputs": [],
   "source": [
    "zero, one = np.array([[1],[0]]), np.array([[0],[1]])\n",
    "prod01, prod10, prod11 = np.kron(zero,one), np.kron(one,zero), np.kron(one,one)"
   ]
  },
  {
   "cell_type": "code",
   "execution_count": null,
   "metadata": {},
   "outputs": [],
   "source": []
  }
 ],
 "metadata": {
  "kernelspec": {
   "display_name": "Python 3",
   "language": "python",
   "name": "python3"
  },
  "language_info": {
   "codemirror_mode": {
    "name": "ipython",
    "version": 3
   },
   "file_extension": ".py",
   "mimetype": "text/x-python",
   "name": "python",
   "nbconvert_exporter": "python",
   "pygments_lexer": "ipython3",
   "version": "3.6.7"
  }
 },
 "nbformat": 4,
 "nbformat_minor": 2
}
