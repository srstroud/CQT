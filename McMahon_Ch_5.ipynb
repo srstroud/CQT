{
 "cells": [
  {
   "cell_type": "markdown",
   "metadata": {},
   "source": [
    "# Chapter 5 Exercises\n",
    "## The Density Operator"
   ]
  },
  {
   "cell_type": "code",
   "execution_count": 26,
   "metadata": {},
   "outputs": [],
   "source": [
    "import numpy as np"
   ]
  },
  {
   "cell_type": "markdown",
   "metadata": {},
   "source": [
    "### <font color='blue'>5.1</font> *Consider the following state vector:*\n",
    "### $|\\psi⟩ = \\sqrt{\\frac{5}{6}}|0⟩ + \\frac{1}{\\sqrt{6}}|1⟩ $\n",
    "### *(A) Is the state normalized?* \n",
    "### *(B) What is the probability that the system is found to be in state $|0⟩$ if Z is measured?*\n",
    "### *(C) Write down the density operator.* \n",
    "### *(D) Find the density matrix in the {$|0⟩,|1⟩$} basis, and show that $Tr(\\rho)=1$.*"
   ]
  },
  {
   "cell_type": "code",
   "execution_count": 27,
   "metadata": {},
   "outputs": [
    {
     "data": {
      "text/plain": [
       "True"
      ]
     },
     "execution_count": 27,
     "metadata": {},
     "output_type": "execute_result"
    }
   ],
   "source": [
    "5/6+1/6 == 1"
   ]
  },
  {
   "cell_type": "markdown",
   "metadata": {},
   "source": [
    "### <font color='green'> (A) Answer: Yes, the state is normalized."
   ]
  },
  {
   "cell_type": "code",
   "execution_count": 28,
   "metadata": {},
   "outputs": [
    {
     "data": {
      "text/plain": [
       "0.8333333333333334"
      ]
     },
     "execution_count": 28,
     "metadata": {},
     "output_type": "execute_result"
    }
   ],
   "source": [
    "np.sqrt(5/6)**2"
   ]
  },
  {
   "cell_type": "markdown",
   "metadata": {},
   "source": [
    "### <font color='green'> (B) Answer: Pr(0) = $\\frac{5}{6}$"
   ]
  },
  {
   "cell_type": "code",
   "execution_count": 29,
   "metadata": {},
   "outputs": [
    {
     "name": "stdout",
     "output_type": "stream",
     "text": [
      "[[0.83333333 0.372678  ]\n",
      " [0.372678   0.16666667]]\n"
     ]
    }
   ],
   "source": [
    "zero, one = np.array([[1],[0]]), np.array([[0],[1]])\n",
    "psi = np.sqrt(5/6)*zero + np.sqrt(1/6)*one\n",
    "p = np.outer(psi,psi)\n",
    "print(p)"
   ]
  },
  {
   "cell_type": "markdown",
   "metadata": {},
   "source": [
    "### <font color='green'> (C) Answer: $\\rho = |\\psi⟩⟨\\psi| = \\begin{pmatrix} \\frac{5}{6} & \\frac{\\sqrt{5}}{6} \\\\ \\frac{\\sqrt{5}}{6} & \\frac{1}{6} \\\\ \\end{pmatrix} $"
   ]
  },
  {
   "cell_type": "code",
   "execution_count": 30,
   "metadata": {},
   "outputs": [
    {
     "data": {
      "text/plain": [
       "True"
      ]
     },
     "execution_count": 30,
     "metadata": {},
     "output_type": "execute_result"
    }
   ],
   "source": [
    "np.trace(p) == 1"
   ]
  },
  {
   "cell_type": "markdown",
   "metadata": {},
   "source": [
    "### <font color='blue'>5.2</font> *Consider the state*\n",
    "### $|\\psi⟩ = \\begin{pmatrix} \\cos\\theta \\\\ i\\sin\\theta \\end{pmatrix}$\n",
    "### *Is this state normalized? Is* $\\rho = |\\psi⟩⟨\\psi|$ *a density operator?*"
   ]
  },
  {
   "cell_type": "code",
   "execution_count": 31,
   "metadata": {},
   "outputs": [
    {
     "data": {
      "text/plain": [
       "False"
      ]
     },
     "execution_count": 31,
     "metadata": {},
     "output_type": "execute_result"
    }
   ],
   "source": [
    "np.cos(55)**2 + np.sin(55)**2 == 1\n",
    "np.cos(55)**2 + 1j*np.sin(55)**2 == 1"
   ]
  },
  {
   "cell_type": "markdown",
   "metadata": {},
   "source": [
    "### <font color='green'> Answer: No, the state is not normalized, because $\\cos^2\\theta + i\\sin^2\\theta \\neq 1.$"
   ]
  },
  {
   "cell_type": "code",
   "execution_count": 32,
   "metadata": {},
   "outputs": [
    {
     "data": {
      "text/plain": [
       "array([[ 0.02212676+0.j        ],\n",
       "       [-0.        -0.99975517j]])"
      ]
     },
     "execution_count": 32,
     "metadata": {},
     "output_type": "execute_result"
    }
   ],
   "source": [
    "cos, isin = np.cos(55), 1j*np.sin(55)\n",
    "psi = np.array([[cos],[isin]]) \n",
    "psi"
   ]
  },
  {
   "cell_type": "code",
   "execution_count": 33,
   "metadata": {},
   "outputs": [
    {
     "data": {
      "text/plain": [
       "array([[ True, False],\n",
       "       [False,  True]])"
      ]
     },
     "execution_count": 33,
     "metadata": {},
     "output_type": "execute_result"
    }
   ],
   "source": [
    "zero, one = np.array([[1],[0]]), np.array([[0],[1]])\n",
    "cos, isin = np.cos(55), 1j*np.sin(55)\n",
    "psi = cos*zero + isin*one\n",
    "p = np.outer(psi, psi)\n",
    "np.trace(p) == 1 #True\n",
    "np.transpose(np.conj(p)) == p #False"
   ]
  },
  {
   "cell_type": "markdown",
   "metadata": {},
   "source": [
    "### <font color='green'> Answer: No, $\\rho$ is not a density operator. $|\\psi⟩$ is complex, so $\\rho$ cannot be Hermitian."
   ]
  },
  {
   "cell_type": "markdown",
   "metadata": {},
   "source": [
    "### <font color='blue'>5.3</font> *Let*\n",
    "### $|\\psi⟩ = \\sqrt{\\frac{3}{7}}|0⟩ + \\frac{2}{\\sqrt{7}}|1⟩ $\n",
    "### *(A) Write down the density matrix in the* {$|0⟩,|1⟩$} *basis.*\n",
    "### *(B) Determine whether or not this is a pure state.*\n",
    "### *(C) Write down the density matrix in the {$|+⟩, |−⟩$} basis, show that Tr(ρ) =1 still holds, and determine if you still obtain the same result as in part (b).*"
   ]
  },
  {
   "cell_type": "code",
   "execution_count": 34,
   "metadata": {},
   "outputs": [
    {
     "name": "stdout",
     "output_type": "stream",
     "text": [
      "[[0.42857143 0.49487166]\n",
      " [0.49487166 0.57142857]]\n"
     ]
    }
   ],
   "source": [
    "zero, one = np.array([[1],[0]]), np.array([[0],[1]])\n",
    "psi = np.sqrt(3/7)*zero + np.sqrt(4/7)*one\n",
    "p = np.outer(psi,psi)\n",
    "print(p)"
   ]
  },
  {
   "cell_type": "markdown",
   "metadata": {},
   "source": [
    "### <font color='green'> (A) Answer: $\\rho = |\\psi⟩⟨\\psi| = \\begin{pmatrix} \\frac{3}{7} & \\frac{2\\sqrt{3}}{7} \\\\ \\frac{2\\sqrt{3}}{7} & \\frac{4}{7} \\\\ \\end{pmatrix} $"
   ]
  },
  {
   "cell_type": "code",
   "execution_count": 35,
   "metadata": {},
   "outputs": [
    {
     "data": {
      "text/plain": [
       "False"
      ]
     },
     "execution_count": 35,
     "metadata": {},
     "output_type": "execute_result"
    }
   ],
   "source": [
    "np.trace(p**2) == 1"
   ]
  },
  {
   "cell_type": "markdown",
   "metadata": {},
   "source": [
    "### <font color='green'> (B) Answer: No, this is not a pure state, because $Tr(\\rho^2) \\neq 1.$"
   ]
  },
  {
   "cell_type": "code",
   "execution_count": null,
   "metadata": {},
   "outputs": [],
   "source": []
  },
  {
   "cell_type": "markdown",
   "metadata": {},
   "source": [
    "### <font color='green'> (C) Answer: "
   ]
  },
  {
   "cell_type": "markdown",
   "metadata": {},
   "source": [
    "### <font color='blue'>5.4</font> *Suppose that a system is in the state*\n",
    "### $|\\psi⟩ = \\sqrt{\\frac{2}{3}}|0⟩ + \\frac{1}{\\sqrt{3}}|1⟩ $\n",
    "### *(A) Compute* $Tr(\\rho)$ *and* $Tr(\\rho^2)$*. Is this a mixed state?*\n",
    "### *(B) Find $⟨X⟩$\tfor this state.*"
   ]
  },
  {
   "cell_type": "code",
   "execution_count": 36,
   "metadata": {},
   "outputs": [
    {
     "name": "stdout",
     "output_type": "stream",
     "text": [
      "1.0 0.5555555555555556\n"
     ]
    }
   ],
   "source": [
    "zero, one = np.array([[1],[0]]), np.array([[0],[1]])\n",
    "psi = np.sqrt(2/3)*zero + np.sqrt(1/3)*one\n",
    "p = np.outer(psi,psi)\n",
    "print(np.trace(p), np.trace(p**2))"
   ]
  },
  {
   "cell_type": "markdown",
   "metadata": {},
   "source": [
    "### <font color='green'> (A) Answer: Yes, this is a mixed state, because $Tr(\\rho^2) < 1.$"
   ]
  },
  {
   "cell_type": "code",
   "execution_count": 40,
   "metadata": {},
   "outputs": [
    {
     "data": {
      "text/plain": [
       "0.9428090415820634"
      ]
     },
     "execution_count": 40,
     "metadata": {},
     "output_type": "execute_result"
    }
   ],
   "source": [
    "X = np.array([[0,1], [1,0]])\n",
    "Xp = np.matmul(X,p)\n",
    "np.trace(Xp)"
   ]
  },
  {
   "cell_type": "markdown",
   "metadata": {},
   "source": [
    "### <font color='green'> (B) Answer: $⟨X⟩ = Tr(X\\rho) = \\frac{2\\sqrt{2}}{3}$\t"
   ]
  },
  {
   "cell_type": "markdown",
   "metadata": {},
   "source": [
    "### <font color='blue'>5.5</font> *Suppose that*"
   ]
  },
  {
   "cell_type": "code",
   "execution_count": null,
   "metadata": {},
   "outputs": [],
   "source": []
  },
  {
   "cell_type": "code",
   "execution_count": null,
   "metadata": {},
   "outputs": [],
   "source": []
  },
  {
   "cell_type": "code",
   "execution_count": null,
   "metadata": {},
   "outputs": [],
   "source": []
  },
  {
   "cell_type": "code",
   "execution_count": null,
   "metadata": {},
   "outputs": [],
   "source": []
  }
 ],
 "metadata": {
  "kernelspec": {
   "display_name": "Python 3",
   "language": "python",
   "name": "python3"
  },
  "language_info": {
   "codemirror_mode": {
    "name": "ipython",
    "version": 3
   },
   "file_extension": ".py",
   "mimetype": "text/x-python",
   "name": "python",
   "nbconvert_exporter": "python",
   "pygments_lexer": "ipython3",
   "version": "3.6.7"
  }
 },
 "nbformat": 4,
 "nbformat_minor": 2
}
