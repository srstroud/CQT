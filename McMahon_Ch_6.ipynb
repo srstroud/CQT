{
 "cells": [
  {
   "cell_type": "markdown",
   "metadata": {},
   "source": [
    "# Chapter 6 Exercises\n",
    "## Quantum Measurment Theory"
   ]
  },
  {
   "cell_type": "code",
   "execution_count": 3,
   "metadata": {},
   "outputs": [],
   "source": [
    "import numpy as np"
   ]
  },
  {
   "cell_type": "markdown",
   "metadata": {},
   "source": [
    "### <font color='blue'>6.1</font> *Let $P_1$ and $P_2$ be two projection operators. Show that if their commutator $[P_1,P_2]=0$, then their product $P_1P_2$ is also a projection operator.*"
   ]
  },
  {
   "cell_type": "code",
   "execution_count": null,
   "metadata": {},
   "outputs": [],
   "source": []
  },
  {
   "cell_type": "code",
   "execution_count": null,
   "metadata": {},
   "outputs": [],
   "source": []
  },
  {
   "cell_type": "markdown",
   "metadata": {},
   "source": [
    "### <font color='blue'>6.2</font> *A system is in the state*\n",
    "### $|\\phi⟩ = \\frac{1}{2}|u_1⟩ - \\frac{\\sqrt{2}}{2}|u_2⟩ + \\frac{1}{2}|u_3⟩$\n",
    "### *where the orthonormal basis states $|u_1⟩, |u_2⟩, |u_3⟩$ correspond to possible measurement results $\\hbar\\omega$, $2\\hbar\\omega$, and $3\\hbar\\omega$, respectively. Write down the projection operators corresponding to each possible measurement result, and determine the probability of finding the system in each of the states $|u_1⟩, |u_2⟩, |u_3⟩$. What is the average energy of the system?*"
   ]
  },
  {
   "cell_type": "code",
   "execution_count": null,
   "metadata": {},
   "outputs": [],
   "source": []
  },
  {
   "cell_type": "code",
   "execution_count": null,
   "metadata": {},
   "outputs": [],
   "source": []
  },
  {
   "cell_type": "markdown",
   "metadata": {},
   "source": [
    "### <font color='blue'>6.3</font> *A qubit is in the state $|\\psi⟩=|1⟩$\t. A measurement of $X$ is made. What are the matrix representations of the projection operators corresponding to measurement results $\\pm1$? What is the probability of finding measurement results $\\pm1$?*"
   ]
  },
  {
   "cell_type": "code",
   "execution_count": null,
   "metadata": {},
   "outputs": [],
   "source": []
  },
  {
   "cell_type": "code",
   "execution_count": null,
   "metadata": {},
   "outputs": [],
   "source": []
  },
  {
   "cell_type": "markdown",
   "metadata": {},
   "source": [
    "### <font color='blue'>6.4</font> *A system is in the state*\n",
    "### $|\\psi⟩ = \\frac{1}{\\sqrt{3}}|00⟩ - \\frac{1}{\\sqrt{6}}|01⟩ + \\frac{1}{\\sqrt{2}}|11⟩$\n",
    "### *(A) What is the probability that measurement finds the system in the state $|\\phi⟩=|01⟩$?*\n",
    "### *(B) What is the probability that measurement finds the second qubit in the state $|1⟩$, and what is the state of the system after measurement?*"
   ]
  },
  {
   "cell_type": "code",
   "execution_count": 4,
   "metadata": {},
   "outputs": [
    {
     "data": {
      "text/plain": [
       "0.1666666666666667"
      ]
     },
     "execution_count": 4,
     "metadata": {},
     "output_type": "execute_result"
    }
   ],
   "source": [
    "(1/np.sqrt(6))**2"
   ]
  },
  {
   "cell_type": "markdown",
   "metadata": {},
   "source": [
    "### <font color='green'> (A) Answer: Pr$(01) = \\frac{1}{6}$"
   ]
  },
  {
   "cell_type": "code",
   "execution_count": 5,
   "metadata": {},
   "outputs": [
    {
     "data": {
      "text/plain": [
       "0.6666666666666666"
      ]
     },
     "execution_count": 5,
     "metadata": {},
     "output_type": "execute_result"
    }
   ],
   "source": [
    "(1/np.sqrt(6))**2 + (1/np.sqrt(2))**2"
   ]
  },
  {
   "cell_type": "markdown",
   "metadata": {},
   "source": [
    "### <font color='green'> (B) Answer: Pr$(1) = \\frac{2}{3}$"
   ]
  },
  {
   "cell_type": "markdown",
   "metadata": {},
   "source": [
    "### <font color='blue'>6.5</font> *A system is in the state*\n",
    "### $|\\psi⟩ = \\frac{1}{\\sqrt{6}}|0⟩ - \\sqrt{\\frac{5}{6}}|1⟩ $\n",
    "### *A measurement is made with respect to the observable $Y$. What is the expectation or average value?*\n"
   ]
  },
  {
   "cell_type": "code",
   "execution_count": 15,
   "metadata": {},
   "outputs": [
    {
     "data": {
      "text/plain": [
       "array([[0.+0.j]])"
      ]
     },
     "execution_count": 15,
     "metadata": {},
     "output_type": "execute_result"
    }
   ],
   "source": [
    "zero, one, Y = np.array([[1],[0]]), np.array([[0],[1]]), np.array([[0,-1j], [1j,0]])\n",
    "psi_ket = 1/np.sqrt(6)*zero - np.sqrt(5/6)*one\n",
    "psi_bra = np.conj(np.transpose(psi_ket))\n",
    "Ypsi = np.matmul(Y,psi_ket)\n",
    "np.matmul(psi_bra, Ypsi) #Should check with Example 6.3"
   ]
  },
  {
   "cell_type": "markdown",
   "metadata": {},
   "source": [
    "### <font color='green'> Answer: $⟨\\psi|Y|\\psi⟩ = 0 $"
   ]
  },
  {
   "cell_type": "code",
   "execution_count": null,
   "metadata": {},
   "outputs": [],
   "source": []
  }
 ],
 "metadata": {
  "kernelspec": {
   "display_name": "Python 3",
   "language": "python",
   "name": "python3"
  },
  "language_info": {
   "codemirror_mode": {
    "name": "ipython",
    "version": 3
   },
   "file_extension": ".py",
   "mimetype": "text/x-python",
   "name": "python",
   "nbconvert_exporter": "python",
   "pygments_lexer": "ipython3",
   "version": "3.6.7"
  }
 },
 "nbformat": 4,
 "nbformat_minor": 2
}
