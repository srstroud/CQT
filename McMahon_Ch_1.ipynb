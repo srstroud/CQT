{
 "cells": [
  {
   "cell_type": "markdown",
   "metadata": {},
   "source": [
    "# Chapter 1 Exercises\n",
    "## A Brief Introduction to Information Theory"
   ]
  },
  {
   "cell_type": "code",
   "execution_count": 59,
   "metadata": {},
   "outputs": [],
   "source": [
    "import numpy as np"
   ]
  },
  {
   "cell_type": "markdown",
   "metadata": {},
   "source": [
    "### <font color='blue'>1.1</font> *How many bits are necessary to represent the alphabet using a binary code if we only allow uppercase characters? How about if we allow both uppercase and lowercase characters?*"
   ]
  },
  {
   "cell_type": "code",
   "execution_count": 65,
   "metadata": {},
   "outputs": [
    {
     "name": "stdout",
     "output_type": "stream",
     "text": [
      "5 6\n"
     ]
    }
   ],
   "source": [
    "bit_upp = int(round(np.log2(26)))\n",
    "bit_upp_low = int(round(np.log2(2*26)))\n",
    "print(bit_upp, bit_upp_low) "
   ]
  },
  {
   "cell_type": "markdown",
   "metadata": {},
   "source": [
    "### <font color='green'>Answer: 5 bits for uppercase, 6 bits for upppercase and lowercase.</font>"
   ]
  },
  {
   "cell_type": "markdown",
   "metadata": {},
   "source": [
    "### <font color='blue'>1.2</font> *Describe how you can create an OR gate using NOT gates and AND gates.*"
   ]
  },
  {
   "cell_type": "markdown",
   "metadata": {},
   "source": [
    "### <font color='green'>Answer: OR(a,b) = NOT( AND( NOT(a), NOT(b) ) ) </font>"
   ]
  },
  {
   "cell_type": "markdown",
   "metadata": {},
   "source": [
    "### <font color='blue'>1.3</font> *A kilobyte is 1024 bytes. How many messages can it store?*"
   ]
  },
  {
   "cell_type": "code",
   "execution_count": 69,
   "metadata": {},
   "outputs": [
    {
     "name": "stdout",
     "output_type": "stream",
     "text": [
      "8192\n"
     ]
    }
   ],
   "source": [
    "n = 8*1024 #8 kilobits = 1 kilobyte\n",
    "print(n)"
   ]
  },
  {
   "cell_type": "markdown",
   "metadata": {},
   "source": [
    "### <font color='green'>Answer: A kilobyte stores $2^{8192}$ messages</font>"
   ]
  },
  {
   "cell_type": "markdown",
   "metadata": {},
   "source": [
    "### <font color='blue'>1.4</font> *What is the entropy associated with the tossing of a fair coin?*"
   ]
  },
  {
   "cell_type": "code",
   "execution_count": 70,
   "metadata": {},
   "outputs": [
    {
     "name": "stdout",
     "output_type": "stream",
     "text": [
      "1.0\n"
     ]
    }
   ],
   "source": [
    "def H(P):\n",
    "    return -P*np.log2(P) #Equ 1.4\n",
    "heads = H(0.5)\n",
    "tails = H(0.5)\n",
    "print(heads+tails)"
   ]
  },
  {
   "cell_type": "markdown",
   "metadata": {},
   "source": [
    "### <font color='green'>Answer: The Shannon entropy equals 1</font>"
   ]
  },
  {
   "cell_type": "markdown",
   "metadata": {},
   "source": [
    "### <font color='blue'>1.5</font> *Suppose that X consists of the characters A, B, C, D that occur in a signal with respective probabilities 0.1, 0.4, 0.25, and 0.25. What is the Shannon entropy?*"
   ]
  },
  {
   "cell_type": "code",
   "execution_count": 74,
   "metadata": {},
   "outputs": [
    {
     "name": "stdout",
     "output_type": "stream",
     "text": [
      "1.860964047443681\n"
     ]
    }
   ],
   "source": [
    "A,B,C,D = H(0.1),H(0.4),H(0.25),H(0.25)\n",
    "print(A+B+C+D)"
   ]
  },
  {
   "cell_type": "markdown",
   "metadata": {},
   "source": [
    "### <font color='green'>Answer: The Shannon entropy equals 1.861</font>"
   ]
  },
  {
   "cell_type": "markdown",
   "metadata": {},
   "source": [
    "### <font color='blue'>1.6</font> *A room full of people has incomes distributed in the following way:* \n",
    "### n(25.5) = 3,  n(30) = 5,  n(42) = 7,  n(50) = 3,  n(63) = 1,  n(75) = 2,  n(90) = 1 \n",
    "### *What is the most probable income? What is the average income? What is the variance of this distribution?*"
   ]
  },
  {
   "cell_type": "code",
   "execution_count": 64,
   "metadata": {},
   "outputs": [
    {
     "name": "stdout",
     "output_type": "stream",
     "text": [
      "The most probable income is 30 with probability 0.3181818181818182\n",
      "The average income is 44.25\n",
      "The variance is 0.0\n"
     ]
    }
   ],
   "source": [
    "income = [25.5,30,42,50,63,75,90]\n",
    "people = [3,5,7,3,1,2,1]\n",
    "total_people = np.sum(people)\n",
    "probs = people/total_people\n",
    "\n",
    "def exp_val(j,p):\n",
    "    for i in range (0,6):\n",
    "        exp_val = np.sum(j[i]*p[i])\n",
    "    return exp_val\n",
    "\n",
    "def var(j,p):\n",
    "    var = exp_val(np.square(j),np.square(p)) - (exp_val(j,p))**2\n",
    "    return var\n",
    "\n",
    "print('The most probable income is 30 with probability',max(people)/total_people)\n",
    "print('The average income is',(25.5*3 + 30*5 + 42*7 + 50*3 + 63*1 + 75*2 + 90*1)/total_people)\n",
    "print('The variance is',var(income, probs)) #Shouldn't be zero."
   ]
  },
  {
   "cell_type": "code",
   "execution_count": null,
   "metadata": {},
   "outputs": [],
   "source": []
  }
 ],
 "metadata": {
  "kernelspec": {
   "display_name": "Python 3",
   "language": "python",
   "name": "python3"
  },
  "language_info": {
   "codemirror_mode": {
    "name": "ipython",
    "version": 3
   },
   "file_extension": ".py",
   "mimetype": "text/x-python",
   "name": "python",
   "nbconvert_exporter": "python",
   "pygments_lexer": "ipython3",
   "version": "3.6.7"
  }
 },
 "nbformat": 4,
 "nbformat_minor": 2
}
