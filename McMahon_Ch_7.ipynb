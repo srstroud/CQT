{
 "cells": [
  {
   "cell_type": "markdown",
   "metadata": {},
   "source": [
    "# Chapter 7 Exercises\n",
    "## Entanglement"
   ]
  },
  {
   "cell_type": "code",
   "execution_count": 1,
   "metadata": {},
   "outputs": [],
   "source": [
    "import numpy as np"
   ]
  },
  {
   "cell_type": "markdown",
   "metadata": {},
   "source": [
    "### <font color='blue'>7.1</font>  *Derive the result (7.11).*"
   ]
  },
  {
   "cell_type": "code",
   "execution_count": null,
   "metadata": {},
   "outputs": [],
   "source": []
  },
  {
   "cell_type": "code",
   "execution_count": null,
   "metadata": {},
   "outputs": [],
   "source": []
  },
  {
   "cell_type": "markdown",
   "metadata": {},
   "source": [
    "### <font color='blue'>7.2</font>  *The eigenstates of the Y operator are*\n",
    "## $|\\pm_y⟩ = \\frac{|0⟩ \\ \\pm \\ i|1⟩}{\\sqrt{2}} $\n",
    "### *Rewrite the singlet state (7.2) in terms of the Y eigenstates. Does it have a similar form?*"
   ]
  },
  {
   "cell_type": "code",
   "execution_count": null,
   "metadata": {},
   "outputs": [],
   "source": []
  },
  {
   "cell_type": "code",
   "execution_count": null,
   "metadata": {},
   "outputs": [],
   "source": []
  },
  {
   "cell_type": "markdown",
   "metadata": {},
   "source": [
    "### <font color='blue'>7.3</font>  *Verify that $Z \\otimes Z |\\beta_{xy}⟩ = (-1)^y |\\beta_{xy}⟩ $ for*\n",
    "### $|\\beta_{00}⟩ = \\frac{|00⟩+|11⟩}{\\sqrt{2}} $ *and* $|\\beta_{01}⟩ = \\frac{|01⟩+|10⟩}{\\sqrt{2}} $\n"
   ]
  },
  {
   "cell_type": "code",
   "execution_count": null,
   "metadata": {},
   "outputs": [],
   "source": []
  },
  {
   "cell_type": "code",
   "execution_count": null,
   "metadata": {},
   "outputs": [],
   "source": []
  },
  {
   "cell_type": "markdown",
   "metadata": {},
   "source": [
    "###  <font color='blue'>7.4</font> *Show that $X \\otimes X |\\beta_{xy}⟩ = (-1)^x |\\beta_{xy}⟩ $.*"
   ]
  },
  {
   "cell_type": "code",
   "execution_count": 18,
   "metadata": {},
   "outputs": [
    {
     "data": {
      "text/plain": [
       "array([[False],\n",
       "       [ True],\n",
       "       [ True],\n",
       "       [False]])"
      ]
     },
     "execution_count": 18,
     "metadata": {},
     "output_type": "execute_result"
    }
   ],
   "source": [
    "zero, one = np.array([[1],[0]]), np.array([[0],[1]])\n",
    "B10 =  1/np.sqrt(2) * np.kron(zero,zero) + (np.kron(one,one))\n",
    "X, XX = np.array([[0,1], [1,0]]), np.kron(X,X)\n",
    "np.matmul(XX,B10) == - B10"
   ]
  },
  {
   "cell_type": "code",
   "execution_count": null,
   "metadata": {},
   "outputs": [],
   "source": []
  },
  {
   "cell_type": "markdown",
   "metadata": {},
   "source": [
    "###  <font color='blue'>7.5</font> *Show that $Y \\otimes Y |\\beta_{xy}⟩ = (-1)^{x+Y} |\\beta_{xy}⟩ $.*"
   ]
  },
  {
   "cell_type": "code",
   "execution_count": null,
   "metadata": {},
   "outputs": [],
   "source": []
  },
  {
   "cell_type": "code",
   "execution_count": null,
   "metadata": {},
   "outputs": [],
   "source": []
  },
  {
   "cell_type": "markdown",
   "metadata": {},
   "source": [
    "###  <font color='blue'>7.6</font> *Show that $X \\otimes X$ commutes with $Z \\otimes Z$.*"
   ]
  },
  {
   "cell_type": "code",
   "execution_count": 9,
   "metadata": {},
   "outputs": [
    {
     "data": {
      "text/plain": [
       "array([[0, 0, 0, 0],\n",
       "       [0, 0, 0, 0],\n",
       "       [0, 0, 0, 0],\n",
       "       [0, 0, 0, 0]])"
      ]
     },
     "execution_count": 9,
     "metadata": {},
     "output_type": "execute_result"
    }
   ],
   "source": [
    "X, Z = np.array([[0,1], [1,0]]), np.array([[1,0], [0,-1]])\n",
    "XX, ZZ = np.kron(X,X), np.kron(Z,Z)\n",
    "np.matmul(XX,ZZ)-np.matmul(ZZ,XX) #AB-BA"
   ]
  },
  {
   "cell_type": "markdown",
   "metadata": {},
   "source": [
    "### <font color='green'>Answer: $[X \\otimes X, \\ Z \\otimes Z] = 0$"
   ]
  },
  {
   "cell_type": "code",
   "execution_count": null,
   "metadata": {},
   "outputs": [],
   "source": []
  }
 ],
 "metadata": {
  "kernelspec": {
   "display_name": "Python 3",
   "language": "python",
   "name": "python3"
  },
  "language_info": {
   "codemirror_mode": {
    "name": "ipython",
    "version": 3
   },
   "file_extension": ".py",
   "mimetype": "text/x-python",
   "name": "python",
   "nbconvert_exporter": "python",
   "pygments_lexer": "ipython3",
   "version": "3.6.7"
  }
 },
 "nbformat": 4,
 "nbformat_minor": 2
}
