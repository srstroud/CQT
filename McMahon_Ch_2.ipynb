{
 "cells": [
  {
   "cell_type": "markdown",
   "metadata": {},
   "source": [
    "# Chapter 2 Exercises\n",
    "## Qubits and Quantum States"
   ]
  },
  {
   "cell_type": "code",
   "execution_count": 2,
   "metadata": {},
   "outputs": [],
   "source": [
    "import numpy as np"
   ]
  },
  {
   "cell_type": "markdown",
   "metadata": {},
   "source": [
    "### <font color='blue'>2.1</font> *A quantum system is in the state*   \n",
    "### $ \\frac{(1 \\ − \\  i)}{\\sqrt{3}}|0⟩  +  \\frac{1}{\\sqrt{3}} |1⟩ $   \n",
    "### *If a measurement is made, what is the probability the system is in state $|0⟩$ or in state $|1⟩$?*"
   ]
  },
  {
   "cell_type": "code",
   "execution_count": 3,
   "metadata": {},
   "outputs": [
    {
     "name": "stdout",
     "output_type": "stream",
     "text": [
      "0.6666666666666669 0.3333333333333334\n"
     ]
    }
   ],
   "source": [
    "a, b = (1-1j)/np.sqrt(3), 1/np.sqrt(3)\n",
    "prob_a = abs(a*np.conj(a))\n",
    "prob_b = abs(b*np.conj(b))\n",
    "print(prob_a, prob_b)"
   ]
  },
  {
   "cell_type": "markdown",
   "metadata": {},
   "source": [
    "### <font color='green'>Answer: The probablilites are $\\frac{2}{3}$ and $\\frac{1}{3}$</font>"
   ]
  },
  {
   "cell_type": "markdown",
   "metadata": {},
   "source": [
    "### <font color='blue'>2.2</font> *Two quantum states are given by*\n",
    "### $|a⟩\t= \\begin{pmatrix} -4i \\\\ 2\\\\ \\end{pmatrix} \\ , \\ |b⟩\t = \\begin{pmatrix} 1 \\\\ -1+i\\\\ \\end{pmatrix}$\n",
    "### *(A) Find $|a+b⟩$ ; (B) Calculate $3|a⟩ - 2|b⟩$ ; (C) Normalize $|a⟩, |b⟩$* "
   ]
  },
  {
   "cell_type": "code",
   "execution_count": 4,
   "metadata": {},
   "outputs": [
    {
     "name": "stdout",
     "output_type": "stream",
     "text": [
      "[[1.-4.j]\n",
      " [1.+1.j]]\n"
     ]
    }
   ],
   "source": [
    "a = np.array([-4j, 2])\n",
    "a.shape=(2,1)\n",
    "b = np.array([1,-1+1j])\n",
    "b.shape=(2,1)\n",
    "print(a+b)"
   ]
  },
  {
   "cell_type": "markdown",
   "metadata": {},
   "source": [
    "### <font color='green'>Answer: $|a+b⟩ = \\begin{pmatrix} \\ 1-4i \\\\ \\ 1+i\\\\ \\end{pmatrix} $</font>"
   ]
  },
  {
   "cell_type": "code",
   "execution_count": 5,
   "metadata": {},
   "outputs": [
    {
     "name": "stdout",
     "output_type": "stream",
     "text": [
      "[[-2.-12.j]\n",
      " [ 8. -2.j]]\n"
     ]
    }
   ],
   "source": [
    "print(3*a - 2*b)"
   ]
  },
  {
   "cell_type": "markdown",
   "metadata": {},
   "source": [
    "### <font color='green'>Answer: $3|a⟩ - 2|b⟩ = \\begin{pmatrix} \\ -2-12i \\\\ \\ 8-2i\\\\ \\end{pmatrix} $</font>"
   ]
  },
  {
   "cell_type": "code",
   "execution_count": 6,
   "metadata": {},
   "outputs": [
    {
     "name": "stdout",
     "output_type": "stream",
     "text": [
      "4.47213595499958 = sqrt(20)\n",
      "1.7320508075688774 = sqrt(3)\n"
     ]
    }
   ],
   "source": [
    "a_0, a_1 = a[0][0], a[1][0]\n",
    "norm_a = np.sqrt(np.abs(a_0)**2 + np.abs(a_1)**2)\n",
    "print(norm_a,'= sqrt(20)')\n",
    "\n",
    "b_0, b_1 = np.abs(b[0][0]), np.abs(b[1][0])\n",
    "norm_b = np.sqrt(b_0**2 + b_1**2)\n",
    "print(norm_b,'= sqrt(3)')"
   ]
  },
  {
   "cell_type": "markdown",
   "metadata": {},
   "source": [
    "### <font color='green'>Answer: $|a⟩ = \\frac{1}{\\sqrt{20}}\\begin{pmatrix} \\ -4i \\\\ \\ 2\\\\ \\end{pmatrix} \\ , \\ |b⟩ = \\frac{1}{\\sqrt{3}}\\begin{pmatrix} \\ 1 \\\\ \\ -1+i\\\\ \\end{pmatrix}$</font>"
   ]
  },
  {
   "cell_type": "markdown",
   "metadata": {},
   "source": [
    "### <font color='blue'>2.3</font> *Another basis for* ℂ² *is*\n",
    "### $|+⟩ = \\frac{|0⟩ \\ + \\ |1⟩}{\\sqrt{2}} , \\ |-⟩ = \\frac{|0⟩ \\ - \\ |1⟩}{\\sqrt{2}}$\n",
    "### *Invert this relation to express ${|0⟩, |1⟩}$ in terms of* ${|+⟩\t, |−⟩ }$."
   ]
  },
  {
   "cell_type": "code",
   "execution_count": 7,
   "metadata": {},
   "outputs": [
    {
     "name": "stdout",
     "output_type": "stream",
     "text": [
      "[[1.41421356]\n",
      " [0.        ]] [[0.        ]\n",
      " [1.41421356]]\n"
     ]
    }
   ],
   "source": [
    "zero, one = np.array([1,0]), np.array([0,1])\n",
    "zero.shape = one.shape = (2,1)\n",
    "plus, minus = (zero+one)/np.sqrt(2), (zero-one)/np.sqrt(2)\n",
    "print(plus+minus, plus-minus)"
   ]
  },
  {
   "cell_type": "markdown",
   "metadata": {},
   "source": [
    "### <font color='green'>Answer: $|0⟩ = \\frac{|+⟩ \\ + \\ |-⟩}{\\sqrt{2}} , \\ |1⟩ = \\frac{|+⟩ \\ - \\ |-⟩}{\\sqrt{2}}$</font> "
   ]
  },
  {
   "cell_type": "markdown",
   "metadata": {},
   "source": [
    "### <font color='blue'>2.4</font> *A quantum system is in the state* \n",
    "### $ |\\psi⟩ = \\frac{3i|0⟩ \\ + \\ 4|1⟩}{5} $\n",
    "### *(A) Is the state normalized? ; (B) Express the state in the ${|+⟩\t, |−⟩ }$\t basis.*"
   ]
  },
  {
   "cell_type": "code",
   "execution_count": 8,
   "metadata": {},
   "outputs": [
    {
     "data": {
      "text/plain": [
       "True"
      ]
     },
     "execution_count": 8,
     "metadata": {},
     "output_type": "execute_result"
    }
   ],
   "source": [
    "psi_0, psi_1 = 3j/5, 4/5\n",
    "norm_psi = np.sqrt(np.abs(psi_0)**2 + np.abs(psi_1)**2)\n",
    "norm_psi == 1"
   ]
  },
  {
   "cell_type": "markdown",
   "metadata": {},
   "source": [
    "### <font color='green'>Answer: Yes, the state is normalized.</font> "
   ]
  },
  {
   "cell_type": "code",
   "execution_count": 9,
   "metadata": {},
   "outputs": [],
   "source": [
    "zero, one = (plus+minus)/np.sqrt(2), (plus-minus)/np.sqrt(2)\n",
    "psi = (psi_0*zero) + (psi_1*one)"
   ]
  },
  {
   "cell_type": "markdown",
   "metadata": {},
   "source": [
    "### <font color='green'>Answer: $|\\psi⟩ = \\frac{3i|+⟩ \\ + \\ 3i|-⟩ \\ + \\ 4|+⟩ \\ - \\ 4|-⟩}{5\\sqrt{2}}$</font> "
   ]
  },
  {
   "cell_type": "markdown",
   "metadata": {},
   "source": [
    "### <font color='blue'>2.5</font> *Use the Gram-Schmidt process to find an orthonormal basis for a subspace of the four-dimensional space* ℝ⁴ *spanned by*\n",
    "#### $|u_1⟩= \\begin{pmatrix} \\ 1 \\\\ \\ 1\\\\ \\ 1\\\\ \\ 1\\\\ \\end{pmatrix} , \\ |u_2⟩= \\begin{pmatrix} \\ 1 \\\\ \\ 2\\\\ \\ 4\\\\ \\ 5\\\\ \\end{pmatrix} , \\ |u_3⟩ = \\begin{pmatrix} \\ 1 \\\\ \\ -3\\\\ \\ -4\\\\ \\ -2\\\\ \\end{pmatrix}$"
   ]
  },
  {
   "cell_type": "markdown",
   "metadata": {},
   "source": [
    "### <font color='green'>Answer: $|w_1⟩ = \\frac{1}{2} \\begin{pmatrix} \\ 1 \\\\ \\ 1\\\\ \\ 1\\\\ \\ 1\\\\ \\end{pmatrix} , \\ |w_2⟩= \\frac{1}{\\sqrt{10}} \\begin{pmatrix} \\ -2 \\\\ \\ -1\\\\ \\ 1\\\\ \\ 2\\\\ \\end{pmatrix}, |w_3⟩ = ?  $</font> "
   ]
  },
  {
   "cell_type": "markdown",
   "metadata": {},
   "source": [
    "### <font color='blue'>2.6</font> *Photon horizontal and vertical polarization states are written as $|h⟩$ and $|v⟩$, respectively. Suppose*\n",
    "### $ |\\psi_1⟩ = \\frac{1}{2}|h⟩ + \\frac{\\sqrt{3}}{2}|v⟩ \\ , \\ |\\psi_2⟩ = \\frac{1}{2}|h⟩ - \\frac{\\sqrt{3}}{2}|v⟩ \\ , \\ |\\psi_3⟩ = |h⟩   $\n",
    "### *Find*\n",
    "### $ |⟨\\psi_1|\\psi_2⟩|² \\ , \\ |⟨\\psi_1|\\psi_3⟩|² \\ , \\ |⟨\\psi_3|\\psi_2⟩|² $"
   ]
  },
  {
   "cell_type": "code",
   "execution_count": 12,
   "metadata": {},
   "outputs": [
    {
     "name": "stdout",
     "output_type": "stream",
     "text": [
      "0.2499999999999999 0.25 0.25\n"
     ]
    }
   ],
   "source": [
    "psi1_0, psi1_1 = 1/2, np.sqrt(3)/2\n",
    "psi2_0, psi2_1 = 1/2, -np.sqrt(3)/2\n",
    "psi3 = 1\n",
    "psi1_psi2 = psi1_0*psi2_0 + psi1_1*psi2_1\n",
    "psi1_psi3 = psi1_0*psi3\n",
    "psi3_psi2 = psi2_0*psi3\n",
    "print(psi1_psi2**2, psi1_psi3**2, psi3_psi2**2)"
   ]
  },
  {
   "cell_type": "markdown",
   "metadata": {},
   "source": [
    "### <font color='green'>Answer: $ |⟨\\psi_1|\\psi_2⟩|²  =  |⟨\\psi_1|\\psi_3⟩|²  =  |⟨\\psi_3|\\psi_2⟩|² = \\frac{1}{2}$ </font> "
   ]
  }
 ],
 "metadata": {
  "kernelspec": {
   "display_name": "Python 3",
   "language": "python",
   "name": "python3"
  },
  "language_info": {
   "codemirror_mode": {
    "name": "ipython",
    "version": 3
   },
   "file_extension": ".py",
   "mimetype": "text/x-python",
   "name": "python",
   "nbconvert_exporter": "python",
   "pygments_lexer": "ipython3",
   "version": "3.6.7"
  }
 },
 "nbformat": 4,
 "nbformat_minor": 2
}
